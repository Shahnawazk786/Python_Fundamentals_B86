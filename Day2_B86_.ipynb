{
 "cells": [
  {
   "cell_type": "code",
   "execution_count": null,
   "id": "de356374-51f1-459d-9bff-10f02d20ebb2",
   "metadata": {},
   "outputs": [],
   "source": [
    "Introduction to python programming:"
   ]
  },
  {
   "cell_type": "code",
   "execution_count": null,
   "id": "84396e3e-8e5d-464f-9bc2-07d7c8df0603",
   "metadata": {},
   "outputs": [],
   "source": []
  },
  {
   "cell_type": "code",
   "execution_count": null,
   "id": "5746da28-1b9a-418c-a29f-1c75faece555",
   "metadata": {},
   "outputs": [],
   "source": [
    "Understanding the variables in python"
   ]
  },
  {
   "cell_type": "code",
   "execution_count": 20,
   "id": "535db77c-8990-4b93-9a43-08712ac12133",
   "metadata": {},
   "outputs": [],
   "source": [
    "x = 2\n",
    "y = 3"
   ]
  },
  {
   "cell_type": "code",
   "execution_count": 21,
   "id": "bdf2753c-eb03-4fe5-a85b-c86aa882e549",
   "metadata": {},
   "outputs": [
    {
     "name": "stdout",
     "output_type": "stream",
     "text": [
      "5\n"
     ]
    }
   ],
   "source": [
    "z = x+y\n",
    "\n",
    "print(z)"
   ]
  },
  {
   "cell_type": "code",
   "execution_count": null,
   "id": "023b6b13-30f2-4155-abbe-c3e5e3353172",
   "metadata": {},
   "outputs": [],
   "source": []
  },
  {
   "cell_type": "code",
   "execution_count": null,
   "id": "19354286-bd8a-4721-828e-46d67bc58b95",
   "metadata": {},
   "outputs": [],
   "source": [
    "Rules for declairing the variables in python:"
   ]
  },
  {
   "cell_type": "code",
   "execution_count": null,
   "id": "6824657e-788c-46a8-a14c-33fde18b2b84",
   "metadata": {},
   "outputs": [],
   "source": [
    "Rule No 1: No namespace while declaring the variable name "
   ]
  },
  {
   "cell_type": "code",
   "execution_count": 23,
   "id": "73b118e4-eeb6-414e-ae19-b6a798d2c82e",
   "metadata": {},
   "outputs": [
    {
     "ename": "SyntaxError",
     "evalue": "invalid syntax (2642777287.py, line 1)",
     "output_type": "error",
     "traceback": [
      "\u001b[1;36m  Cell \u001b[1;32mIn[23], line 1\u001b[1;36m\u001b[0m\n\u001b[1;33m    first name = 'Faiyaz'\u001b[0m\n\u001b[1;37m          ^\u001b[0m\n\u001b[1;31mSyntaxError\u001b[0m\u001b[1;31m:\u001b[0m invalid syntax\n"
     ]
    }
   ],
   "source": [
    "first name = 'Faiyaz'\n",
    "print(first name)"
   ]
  },
  {
   "cell_type": "code",
   "execution_count": 24,
   "id": "c5d1c9f5-7ca5-4f76-8aa2-ecd914296aa4",
   "metadata": {},
   "outputs": [
    {
     "name": "stdout",
     "output_type": "stream",
     "text": [
      "Faiyaz\n"
     ]
    }
   ],
   "source": [
    "firstname = 'Faiyaz'\n",
    "print(firstname)"
   ]
  },
  {
   "cell_type": "code",
   "execution_count": null,
   "id": "7742e955-a50b-4a36-86a5-0ea8024e5605",
   "metadata": {},
   "outputs": [],
   "source": []
  },
  {
   "cell_type": "code",
   "execution_count": null,
   "id": "9023fdb5-7046-4102-be4c-3567af607761",
   "metadata": {},
   "outputs": [],
   "source": [
    "Rule No 2: A variable name should not start with a number **"
   ]
  },
  {
   "cell_type": "code",
   "execution_count": 25,
   "id": "d2535b80-f395-4391-9d6c-eba6d22f74e3",
   "metadata": {},
   "outputs": [
    {
     "ename": "SyntaxError",
     "evalue": "invalid decimal literal (4122457387.py, line 1)",
     "output_type": "error",
     "traceback": [
      "\u001b[1;36m  Cell \u001b[1;32mIn[25], line 1\u001b[1;36m\u001b[0m\n\u001b[1;33m    1name = 'sandeep'\u001b[0m\n\u001b[1;37m    ^\u001b[0m\n\u001b[1;31mSyntaxError\u001b[0m\u001b[1;31m:\u001b[0m invalid decimal literal\n"
     ]
    }
   ],
   "source": [
    "1name = 'sandeep'\n",
    "print(1name)"
   ]
  },
  {
   "cell_type": "code",
   "execution_count": null,
   "id": "6ed3277e-1dff-40af-9c8b-5410e6a3ee73",
   "metadata": {},
   "outputs": [],
   "source": [
    "should be"
   ]
  },
  {
   "cell_type": "code",
   "execution_count": 27,
   "id": "51662185-e803-43ed-b3f9-34e31f1a195d",
   "metadata": {},
   "outputs": [
    {
     "name": "stdout",
     "output_type": "stream",
     "text": [
      "sandeep\n"
     ]
    }
   ],
   "source": [
    "name1 = 'sandeep'\n",
    "print(name1)"
   ]
  },
  {
   "cell_type": "code",
   "execution_count": null,
   "id": "049e54b7-9dfd-432d-a7b2-f7e34d9f7675",
   "metadata": {},
   "outputs": [],
   "source": []
  },
  {
   "cell_type": "code",
   "execution_count": null,
   "id": "89601295-34c5-4892-a2dd-02a78306c235",
   "metadata": {},
   "outputs": [],
   "source": [
    "Rule No 3: A variable name should not contain any special characters."
   ]
  },
  {
   "cell_type": "code",
   "execution_count": null,
   "id": "c56edd77-cf82-4c2a-a60a-4526fdf1a5c4",
   "metadata": {},
   "outputs": [],
   "source": [
    "e.g. @ # $ % ^ & *"
   ]
  },
  {
   "cell_type": "code",
   "execution_count": 28,
   "id": "0e670f0b-e525-4ad4-bde6-67d1f4812f88",
   "metadata": {},
   "outputs": [
    {
     "ename": "SyntaxError",
     "evalue": "invalid syntax (2330996405.py, line 1)",
     "output_type": "error",
     "traceback": [
      "\u001b[1;36m  Cell \u001b[1;32mIn[28], line 1\u001b[1;36m\u001b[0m\n\u001b[1;33m    name@ = 'Joseph'\u001b[0m\n\u001b[1;37m          ^\u001b[0m\n\u001b[1;31mSyntaxError\u001b[0m\u001b[1;31m:\u001b[0m invalid syntax\n"
     ]
    }
   ],
   "source": [
    "name@ = 'Joseph'\n",
    "print(name@)"
   ]
  },
  {
   "cell_type": "code",
   "execution_count": null,
   "id": "ab3ec09f-ba4b-4c2e-adcd-6e6ca2120473",
   "metadata": {},
   "outputs": [],
   "source": []
  },
  {
   "cell_type": "code",
   "execution_count": null,
   "id": "740b4475-2337-43b4-b084-fbd892e646f4",
   "metadata": {},
   "outputs": [],
   "source": [
    "Introduction to datatypes:"
   ]
  },
  {
   "cell_type": "code",
   "execution_count": null,
   "id": "e6834ea8-b47e-4789-a4e1-2669c89a34d4",
   "metadata": {},
   "outputs": [],
   "source": [
    "1. Sring ======> str"
   ]
  },
  {
   "cell_type": "code",
   "execution_count": null,
   "id": "8e80fc21-10b9-4242-9a87-4b99230897a4",
   "metadata": {},
   "outputs": [],
   "source": [
    "2. Number (integers =====> int and Floats (decimals ====>0.1, 0.2)) ====> float"
   ]
  },
  {
   "cell_type": "code",
   "execution_count": null,
   "id": "f64125e2-53a9-4d74-87bb-71d513ceb208",
   "metadata": {},
   "outputs": [],
   "source": [
    "lists ====> list"
   ]
  },
  {
   "cell_type": "code",
   "execution_count": null,
   "id": "d8828457-c17f-417b-8717-1e73ecb1a968",
   "metadata": {},
   "outputs": [],
   "source": [
    "tuples ====> tuple"
   ]
  },
  {
   "cell_type": "code",
   "execution_count": null,
   "id": "f6f8afdf-d2b1-415b-a18e-02288cded67f",
   "metadata": {},
   "outputs": [],
   "source": [
    "Dictionaries ====> dict"
   ]
  },
  {
   "cell_type": "code",
   "execution_count": null,
   "id": "465657da-2f8d-48d3-aef4-fb1ea9533f32",
   "metadata": {},
   "outputs": [],
   "source": []
  },
  {
   "cell_type": "code",
   "execution_count": null,
   "id": "47537d6f-d36d-4857-87d5-94b069f6d79a",
   "metadata": {},
   "outputs": [],
   "source": [
    "Classification of datatypes:"
   ]
  },
  {
   "cell_type": "code",
   "execution_count": null,
   "id": "2fe508d5-02b9-4e2d-9436-b840c3dcf2fd",
   "metadata": {},
   "outputs": [],
   "source": [
    "Broadly datatypes are classfied into two categories:"
   ]
  },
  {
   "cell_type": "code",
   "execution_count": null,
   "id": "5b1ac19c-39c2-4d72-81d3-10f32e9f2d2f",
   "metadata": {},
   "outputs": [],
   "source": [
    "1. Mutable datatypes ==>which we can edit/alter ==> flexible in nature"
   ]
  },
  {
   "cell_type": "code",
   "execution_count": null,
   "id": "0d1f9a8f-6957-4794-8e71-8e131e30d18d",
   "metadata": {},
   "outputs": [],
   "source": [
    "2. Immutable datatypes ==> which we cannot be able to edit/alter ==> fixed in nature"
   ]
  },
  {
   "cell_type": "code",
   "execution_count": null,
   "id": "9a9928e0-812e-4ec5-9c05-751dc28979ec",
   "metadata": {},
   "outputs": [],
   "source": []
  },
  {
   "cell_type": "code",
   "execution_count": null,
   "id": "5555af51-1832-4fdf-bfcd-c7360ca4cabc",
   "metadata": {},
   "outputs": [],
   "source": [
    "Introduction to string datatype:"
   ]
  },
  {
   "cell_type": "code",
   "execution_count": null,
   "id": "968c0dc6-b444-4ba6-8e61-30a58b46f78e",
   "metadata": {},
   "outputs": [],
   "source": [
    "Definition: A string is nothing but a series of characters declared in quotes."
   ]
  },
  {
   "cell_type": "code",
   "execution_count": null,
   "id": "0780e199-9083-4368-8f74-0edd3b238a45",
   "metadata": {},
   "outputs": [],
   "source": [
    "Classification: It is classified as an immutable datatype."
   ]
  },
  {
   "cell_type": "code",
   "execution_count": null,
   "id": "c61846ba-691f-49de-a928-39e2c9811f3d",
   "metadata": {},
   "outputs": [],
   "source": [
    "How to define the string datatype."
   ]
  },
  {
   "cell_type": "code",
   "execution_count": null,
   "id": "053c2e76-4677-429f-a607-3a4dc1b9c58f",
   "metadata": {},
   "outputs": [],
   "source": [
    "1. single quotes"
   ]
  },
  {
   "cell_type": "code",
   "execution_count": null,
   "id": "30e25135-7d35-4e4f-97eb-ec8d35cf30d2",
   "metadata": {},
   "outputs": [],
   "source": [
    "2. double quotes"
   ]
  },
  {
   "cell_type": "code",
   "execution_count": 29,
   "id": "eedc49b2-032b-464e-b154-be5e4c3cad18",
   "metadata": {},
   "outputs": [
    {
     "name": "stdout",
     "output_type": "stream",
     "text": [
      "naga babu\n"
     ]
    }
   ],
   "source": [
    "name = 'naga babu'           # single quote\n",
    "print(name)"
   ]
  },
  {
   "cell_type": "code",
   "execution_count": 30,
   "id": "e6903cd4-a4e7-4d6f-9aeb-fca3fb5132b4",
   "metadata": {},
   "outputs": [
    {
     "name": "stdout",
     "output_type": "stream",
     "text": [
      "basha r\n"
     ]
    }
   ],
   "source": [
    "name2 = \"basha r\"           # double quote\n",
    "print(name2)"
   ]
  },
  {
   "cell_type": "code",
   "execution_count": null,
   "id": "6ded3dbb-395c-47e5-827f-92ea10a84f26",
   "metadata": {},
   "outputs": [],
   "source": []
  },
  {
   "cell_type": "code",
   "execution_count": null,
   "id": "bc3ef746-becc-4979-a06b-40b089109356",
   "metadata": {},
   "outputs": [],
   "source": [
    "Introduction to string methods:"
   ]
  },
  {
   "cell_type": "code",
   "execution_count": 31,
   "id": "abe85b26-0c4d-4725-abf0-c2b603888698",
   "metadata": {},
   "outputs": [
    {
     "data": {
      "text/plain": [
       "str"
      ]
     },
     "execution_count": 31,
     "metadata": {},
     "output_type": "execute_result"
    }
   ],
   "source": [
    "type(name)"
   ]
  },
  {
   "cell_type": "code",
   "execution_count": 32,
   "id": "fc65c26e-017e-4702-9f92-f17f4ed1a60d",
   "metadata": {},
   "outputs": [
    {
     "data": {
      "text/plain": [
       "str"
      ]
     },
     "execution_count": 32,
     "metadata": {},
     "output_type": "execute_result"
    }
   ],
   "source": [
    "type(name2)"
   ]
  },
  {
   "cell_type": "code",
   "execution_count": 33,
   "id": "796ff211-1aa9-473f-838b-b18b5d7016b4",
   "metadata": {},
   "outputs": [
    {
     "name": "stdout",
     "output_type": "stream",
     "text": [
      "joseph anthony\n"
     ]
    }
   ],
   "source": [
    "fullname = \"joseph anthony\"\n",
    "print(fullname)"
   ]
  },
  {
   "cell_type": "code",
   "execution_count": 34,
   "id": "e5fbe2c0-2c60-4b26-8c0e-8cd0438ce266",
   "metadata": {},
   "outputs": [
    {
     "name": "stdout",
     "output_type": "stream",
     "text": [
      "Joseph Anthony\n"
     ]
    }
   ],
   "source": [
    "print(fullname.title())"
   ]
  },
  {
   "cell_type": "code",
   "execution_count": 35,
   "id": "191d41e3-997e-4034-8250-fb0eefd9011e",
   "metadata": {},
   "outputs": [
    {
     "name": "stdout",
     "output_type": "stream",
     "text": [
      "JOSEPH ANTHONY\n"
     ]
    }
   ],
   "source": [
    "# Req: I want the entire name in capitals....\n",
    "print(fullname.upper())"
   ]
  },
  {
   "cell_type": "code",
   "execution_count": 36,
   "id": "543c626c-5211-4f2f-a09b-30614c12a0b3",
   "metadata": {},
   "outputs": [
    {
     "name": "stdout",
     "output_type": "stream",
     "text": [
      "joseph anthony\n"
     ]
    }
   ],
   "source": [
    "# Req: I want the entire name in lower letters...\n",
    "print(fullname.lower())"
   ]
  },
  {
   "cell_type": "code",
   "execution_count": null,
   "id": "8e182bc6-ed50-496d-9862-f479ef4208ab",
   "metadata": {},
   "outputs": [],
   "source": []
  },
  {
   "cell_type": "code",
   "execution_count": null,
   "id": "8dd71088-c91c-46ed-b616-a9f57ac903a6",
   "metadata": {},
   "outputs": [],
   "source": []
  },
  {
   "cell_type": "code",
   "execution_count": null,
   "id": "2070ca2a-77b8-44d6-acc0-5574f62b9a91",
   "metadata": {},
   "outputs": [],
   "source": []
  },
  {
   "cell_type": "code",
   "execution_count": null,
   "id": "59825b3a-789b-492a-87b8-70de7d0ddbbf",
   "metadata": {},
   "outputs": [],
   "source": []
  },
  {
   "cell_type": "code",
   "execution_count": null,
   "id": "f8d26cd1-8090-41a6-8db2-e5eea501870f",
   "metadata": {},
   "outputs": [],
   "source": []
  }
 ],
 "metadata": {
  "kernelspec": {
   "display_name": "Python 3 (ipykernel)",
   "language": "python",
   "name": "python3"
  },
  "language_info": {
   "codemirror_mode": {
    "name": "ipython",
    "version": 3
   },
   "file_extension": ".py",
   "mimetype": "text/x-python",
   "name": "python",
   "nbconvert_exporter": "python",
   "pygments_lexer": "ipython3",
   "version": "3.11.7"
  }
 },
 "nbformat": 4,
 "nbformat_minor": 5
}
